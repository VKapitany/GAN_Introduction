{
  "nbformat": 4,
  "nbformat_minor": 0,
  "metadata": {
    "colab": {
      "name": "GAN_Intro.ipynb",
      "provenance": [],
      "collapsed_sections": [],
      "toc_visible": true
    },
    "kernelspec": {
      "name": "python3",
      "display_name": "Python 3"
    },
    "accelerator": "GPU"
  },
  "cells": [
    {
      "cell_type": "markdown",
      "metadata": {
        "id": "HgFkG9-LLJAW",
        "colab_type": "text"
      },
      "source": [
        "## Introduction to regular Generative Adversarial Networks\n",
        "\n",
        "Adapted from: https://www.tensorflow.org/tutorials/generative/dcgan\n",
        "and https://medium.com/ai-society/gans-from-scratch-1-a-deep-introduction-with-code-in-pytorch-and-tensorflow-cb03cdcdba0f"
      ]
    },
    {
      "cell_type": "code",
      "metadata": {
        "id": "GRKeze3MODJd",
        "colab_type": "code",
        "colab": {}
      },
      "source": [
        "import numpy as np\n",
        "import matplotlib.pyplot as plt\n",
        "\n",
        "from tensorflow.compat.v1.keras.backend import clear_session, get_session,set_session\n",
        "from tensorflow.keras.layers import Input, Dense, Flatten, Reshape, UpSampling2D, Conv2D, MaxPooling2D, LeakyReLU\n",
        "from tensorflow.keras.optimizers import Adam\n",
        "from tensorflow.keras.models import Model\n",
        "from keras.datasets.mnist import load_data\n",
        "from tensorflow.keras import layers\n",
        "\n",
        "import tensorflow as tf\n",
        "import os\n",
        "import sys\n",
        "import gc\n",
        "import time\n",
        "\n",
        "from IPython import display\n",
        "\n",
        "import warnings\n",
        "warnings.filterwarnings(\"ignore\")"
      ],
      "execution_count": 5,
      "outputs": []
    },
    {
      "cell_type": "markdown",
      "metadata": {
        "id": "19oDv_XPO3pM",
        "colab_type": "text"
      },
      "source": [
        "### Data"
      ]
    },
    {
      "cell_type": "code",
      "metadata": {
        "id": "FFRPlZboOEK9",
        "colab_type": "code",
        "colab": {
          "base_uri": "https://localhost:8080/",
          "height": 67
        },
        "outputId": "aca3ffae-32a0-4589-905d-d1cfb11724c5"
      },
      "source": [
        "# Let's load our data (MNIST)\n",
        "(train_images, train_labels), (test_images, test_labels) = load_data()\n",
        "print(np.shape(train_images),np.shape(train_labels),np.shape(test_images),np.shape(test_labels))\n",
        "\n",
        "#Reshape and normalise\n",
        "train_images = train_images.reshape(train_images.shape[0], 28, 28, 1).astype('float32') # Reshape\n",
        "train_images = (train_images - 127.5) / 127.5 # Normalize the images to [-1, 1]\n",
        "test_images = test_images.reshape(test_images.shape[0], 28, 28, 1).astype('float32')\n",
        "test_images = (test_images - 127.5) / 127.5 # Normalize the images to [-1, 1]\n",
        "\n",
        "# Batch and shuffle the data\n",
        "BUFFER_SIZE = 60000\n",
        "BATCH_SIZE = 256\n",
        "train_dataset = tf.data.Dataset.from_tensor_slices(train_images).shuffle(BUFFER_SIZE).batch(BATCH_SIZE)"
      ],
      "execution_count": 6,
      "outputs": [
        {
          "output_type": "stream",
          "text": [
            "Downloading data from https://storage.googleapis.com/tensorflow/tf-keras-datasets/mnist.npz\n",
            "11493376/11490434 [==============================] - 0s 0us/step\n",
            "(60000, 28, 28) (60000,) (10000, 28, 28) (10000,)\n"
          ],
          "name": "stdout"
        }
      ]
    },
    {
      "cell_type": "code",
      "metadata": {
        "id": "tZWM4v6fO5oC",
        "colab_type": "code",
        "colab": {
          "base_uri": "https://localhost:8080/",
          "height": 275
        },
        "outputId": "c037d349-225e-45c6-c0dc-311e98a3706f"
      },
      "source": [
        "# Let's see some examples \n",
        "plt.figure(1,figsize=(8,4))\n",
        "plt.subplot(121)\n",
        "plt.imshow(train_images[0,:,:,0],cmap='gray')\n",
        "plt.title(train_labels[0])\n",
        "plt.colorbar()\n",
        "plt.subplot(122)\n",
        "plt.imshow(test_images[0,:,:,0],cmap='gray')\n",
        "plt.colorbar()\n"
      ],
      "execution_count": 7,
      "outputs": [
        {
          "output_type": "execute_result",
          "data": {
            "text/plain": [
              "<matplotlib.colorbar.Colorbar at 0x7f380019d4a8>"
            ]
          },
          "metadata": {
            "tags": []
          },
          "execution_count": 7
        },
        {
          "output_type": "display_data",
          "data": {
            "image/png": "[encoded data removed]",
            "text/plain": [
              "<Figure size 576x288 with 4 Axes>"
            ]
          },
          "metadata": {
            "tags": [],
            "needs_background": "light"
          }
        }
      ]
    },
    {
      "cell_type": "markdown",
      "metadata": {
        "id": "38AYtAWvgn4v",
        "colab_type": "text"
      },
      "source": [
        "## ML\n",
        "\n",
        "Introduction:\n",
        "GANs belong to the set of algorithms named **generative models**. These algorithms belong to the field of unsupervised learning, a sub-set of ML which aims to study algorithms that learn the underlying structure of the given data, without specifying a target value. Generative models learn the **intrinsic distribution function of the input data p(x) (or p(x,y)** if there are multiple targets/classes in the dataset), allowing them to generate both synthetic inputs x’ and outputs/targets y’, typically given some hidden parameters.\n",
        "\n",
        "<center><img src=\"https://miro.medium.com/max/1050/1*5rMmuXmAquGTT-odw-bOpw.jpeg\" width=600></center>\n",
        "\n",
        "GAN concept:\n",
        "1. you have a latent space, often a Gaussian distribution, from which you sample randomly. We will call this random sample `noise`, but really it's meant to be a condensed/latent representation of an image. This noise is the input of your `Generator`.\n",
        "2. The generator transforms this noise into an image of the required size, the `generated fake samples`\n",
        "3. You assign labels to these fake images, e.g. 0s, and take a batch of real image samples, to which you assign labels as well, e.g. 1s.\n",
        "4. You pass on the fake and real images to the discriminator, each labelled as Fake [0] or real [1], and **train the discriminator** on these image/label pairs. The discriminator gets better at distinguishing between them.\n",
        "5. Next, you take your fake samples, and assign them to be real/1s. We assign them as real because we want to train the generator to fool the discriminator. You then get the discriminator to predict the value of your fake samples (you aren't training the discriminator, just predicting the fake image samples). The loss we want the generator to optimise is the difference between the 1s and the discriminator predictions. Remember, the discriminator had been previously trained to output 0s, when it sees fake samples. \n",
        "5. So, you **backgropagate the error between your training labels (1s) and training outputs (discriminator prediction) to the generator, to train it's weights.**\n",
        "6. Rinse and repeat.\n"
      ]
    },
    {
      "cell_type": "code",
      "metadata": {
        "id": "fBTp2Y1CgphN",
        "colab_type": "code",
        "colab": {}
      },
      "source": [
        "!mkdir gan_images\n",
        "!mkdir gan_models"
      ],
      "execution_count": 8,
      "outputs": []
    },
    {
      "cell_type": "code",
      "metadata": {
        "id": "3l_yCLe8t6G7",
        "colab_type": "code",
        "colab": {}
      },
      "source": [
        "from tensorflow.compat.v1.keras.backend import clear_session, get_session,set_session\n",
        "import gc\n",
        "\n",
        "def reset_keras():\n",
        "    sess = get_session()\n",
        "    clear_session()\n",
        "    sess.close()\n",
        "    sess = get_session()\n",
        "\n",
        "    print(gc.collect()) # if it's done something you should see a number being outputted\n",
        "\n",
        "    # use the same config as you used to create the session\n",
        "    config = tf.compat.v1.ConfigProto()\n",
        "    config.gpu_options.per_process_gpu_memory_fraction = 1\n",
        "    config.gpu_options.visible_device_list = \"0\"\n",
        "    set_session(tf.compat.v1.Session(config=config))"
      ],
      "execution_count": 9,
      "outputs": []
    },
    {
      "cell_type": "markdown",
      "metadata": {
        "id": "3fBkMLltP6mF",
        "colab_type": "text"
      },
      "source": [
        "###The goal of a GAN is formally to play a minimax game between the generator and discriminator:\n",
        "\n",
        "$\\min_{G}\\max_{D}V(D,G) = \\mathbb{E}_{x~p_{data}(x)}[log D(x)] +  \\mathbb{E}_{z~p(z)}[log 1-D(G(z))]$\n",
        "\n",
        "for:\n",
        "- variable function V,\n",
        "-discriminator D,\n",
        "-generator G, \n",
        "-real images x \n",
        "  - sampled from the image distribution of interest, p(x),\n",
        "-and latent variables z\n",
        "  - sampled from the latent distribution of interest, p(z).\n",
        "\n",
        "Note: In this sense, G and D are just functions/transormations, not compiled architectures.\n",
        "\n",
        "Trivially, this simplifies to:\n",
        "\n",
        "**The goal of the discriminator:**\n",
        "\n",
        "$\\max_D= \\frac{1}{m}\\sum_{i=1}^{m}[log(D(x^{(i))}+log(1-D(G(z^{(i)})))]$\n",
        "\n",
        "**The goal of the generator:**\n",
        "\n",
        "$\\min_G = \\frac{1}{m}\\sum_{i=1}^{m}log(1-D(G(z^{(i)})))$\n",
        "\n",
        "for input datapoints $i={1,...,m}$.\n",
        "\n"
      ]
    },
    {
      "cell_type": "markdown",
      "metadata": {
        "id": "qCisWRMnYs0O",
        "colab_type": "text"
      },
      "source": [
        "### Loss: binary crossentropy\n",
        "We will use binary crossentropy as our loss function, which looks like this:\n",
        "\n",
        "$BCE(v,y)=-\\frac{1}{m}\\sum_{i=1}^{m}[y_i\\cdot log(v_i) + (1 - y_i)(log(1-v_i)]$\n",
        "\n",
        "where $y_i$ are the targets and $v_i$ the outputs, and y and v the corresponding mini-batch of said  targets and outupts (sometimes, BCE is written to include a scaling factor, which I occlude as it's set to 1)\n",
        "\n",
        "**Discriminator**\n",
        "\n",
        "- **Loss for real inputs, and labels = 1:**\n",
        "If we replace $v_i = D(x_i)$ and $y_i = 1 \\forall i$, we get \n",
        "$-\\frac{1}{m}\\sum_{i=1}^{m}[log(D(x^{(i))}]$. This is the loss related to the real images.\n",
        "\n",
        "- **Loss for fake inputs, and labels = 0:**\n",
        "If we replace $v_i = D(G(z_i))$ and $y_i = 0 \\forall i$, we get \n",
        "$-\\frac{1}{m}\\sum_{i=1}^{m}[log(1-D(G(z^{(i)})))]$. This is the loss related to the fake/generator made images.\n",
        "- **Total discriminator loss:** average of the losses for real and fake inputs\n",
        "\n",
        "Note that the BCE is has a negative sign. However, tensorflow minimises BCE; minimising the negative of the loss is equivalent to maximising the loss.\n",
        "\n",
        "**Generator**\n",
        "\n",
        "Rather than minimising $\\frac{1}{m}\\sum_{i=1}^{m}log(1-D(G(z^{(i)})))$, we maximise $\\frac{1}{m}\\sum_{i=1}^{m}log(D(G(z^{(i)})))$, as this provides stronger gradients at the start of training.\n",
        "\n",
        "- **Loss for fake inputs, and labels = 1:**\n",
        "If we replace $v_i = D(G(z_i))$ and $y_i = 1 \\forall i$, we get \n",
        "$-\\frac{1}{m}\\sum_{i=1}^{m}[log(D(G(z^{(i)})))]$. This is the loss related to the fake/generator made images. Again, minimising this is equivalent to maximising its negative (which is our target)."
      ]
    },
    {
      "cell_type": "code",
      "metadata": {
        "id": "skMaPxzMPDZQ",
        "colab_type": "code",
        "colab": {
          "base_uri": "https://localhost:8080/",
          "height": 917
        },
        "outputId": "7a783bf5-340e-43ca-bcf8-e0e11112dbb4"
      },
      "source": [
        "noise_shape = 100\n",
        "\n",
        "#Architectures\n",
        "\n",
        "def make_generator_model():\n",
        "    model = tf.keras.Sequential()\n",
        "    model.add(layers.Dense(7*7*256, use_bias=False, input_shape=(noise_shape,)))\n",
        "    model.add(layers.BatchNormalization())\n",
        "    model.add(layers.LeakyReLU())\n",
        "\n",
        "    model.add(layers.Reshape((7, 7, 256)))\n",
        "    assert model.output_shape == (None, 7, 7, 256) # Note: None is the batch size\n",
        "\n",
        "    model.add(layers.Conv2DTranspose(128, (5, 5), strides=(1, 1), padding='same', use_bias=False))\n",
        "    assert model.output_shape == (None, 7, 7, 128)\n",
        "    model.add(layers.BatchNormalization())\n",
        "    model.add(layers.LeakyReLU())\n",
        "\n",
        "    model.add(layers.Conv2DTranspose(64, (5, 5), strides=(2, 2), padding='same', use_bias=False))\n",
        "    assert model.output_shape == (None, 14, 14, 64)\n",
        "    model.add(layers.BatchNormalization())\n",
        "    model.add(layers.LeakyReLU())\n",
        "\n",
        "    model.add(layers.Conv2DTranspose(1, (5, 5), strides=(2, 2), padding='same', use_bias=False, activation='tanh'))\n",
        "    assert model.output_shape == (None, 28, 28, 1)\n",
        "\n",
        "    return model\n",
        "\n",
        "def make_discriminator_model():\n",
        "    model = tf.keras.Sequential()\n",
        "    model.add(layers.Conv2D(64, (5, 5), strides=(2, 2), padding='same',\n",
        "                                     input_shape=[28, 28, 1]))\n",
        "    model.add(layers.LeakyReLU())\n",
        "    model.add(layers.Dropout(0.3))\n",
        "\n",
        "    model.add(layers.Conv2D(128, (5, 5), strides=(2, 2), padding='same'))\n",
        "    model.add(layers.LeakyReLU())\n",
        "    model.add(layers.Dropout(0.3))\n",
        "\n",
        "    model.add(layers.Flatten())\n",
        "    model.add(layers.Dense(1))\n",
        "\n",
        "    return model\n",
        "\n",
        "generator = make_generator_model()\n",
        "discriminator = make_discriminator_model()\n",
        "\n",
        "generator.summary()\n",
        "discriminator.summary()\n",
        "\n",
        "#Losses\n",
        "cross_entropy = tf.keras.losses.BinaryCrossentropy(from_logits=True)\n",
        "def discriminator_loss(real_output, fake_output):\n",
        "    real_loss = cross_entropy(tf.ones_like(real_output), real_output)\n",
        "    fake_loss = cross_entropy(tf.zeros_like(fake_output), fake_output)\n",
        "    total_loss = real_loss + fake_loss\n",
        "    return total_loss\n",
        "def generator_loss(fake_output):\n",
        "    return cross_entropy(tf.ones_like(fake_output), fake_output)\n",
        "\n",
        "#Optimizers    \n",
        "generator_optimizer = tf.keras.optimizers.Adam(1e-4)\n",
        "discriminator_optimizer = tf.keras.optimizers.Adam(1e-4)\n",
        "\n"
      ],
      "execution_count": 10,
      "outputs": [
        {
          "output_type": "stream",
          "text": [
            "Model: \"sequential\"\n",
            "_________________________________________________________________\n",
            "Layer (type)                 Output Shape              Param #   \n",
            "=================================================================\n",
            "dense (Dense)                (None, 12544)             1254400   \n",
            "_________________________________________________________________\n",
            "batch_normalization (BatchNo (None, 12544)             50176     \n",
            "_________________________________________________________________\n",
            "leaky_re_lu (LeakyReLU)      (None, 12544)             0         \n",
            "_________________________________________________________________\n",
            "reshape (Reshape)            (None, 7, 7, 256)         0         \n",
            "_________________________________________________________________\n",
            "conv2d_transpose (Conv2DTran (None, 7, 7, 128)         819200    \n",
            "_________________________________________________________________\n",
            "batch_normalization_1 (Batch (None, 7, 7, 128)         512       \n",
            "_________________________________________________________________\n",
            "leaky_re_lu_1 (LeakyReLU)    (None, 7, 7, 128)         0         \n",
            "_________________________________________________________________\n",
            "conv2d_transpose_1 (Conv2DTr (None, 14, 14, 64)        204800    \n",
            "_________________________________________________________________\n",
            "batch_normalization_2 (Batch (None, 14, 14, 64)        256       \n",
            "_________________________________________________________________\n",
            "leaky_re_lu_2 (LeakyReLU)    (None, 14, 14, 64)        0         \n",
            "_________________________________________________________________\n",
            "conv2d_transpose_2 (Conv2DTr (None, 28, 28, 1)         1600      \n",
            "=================================================================\n",
            "Total params: 2,330,944\n",
            "Trainable params: 2,305,472\n",
            "Non-trainable params: 25,472\n",
            "_________________________________________________________________\n",
            "Model: \"sequential_1\"\n",
            "_________________________________________________________________\n",
            "Layer (type)                 Output Shape              Param #   \n",
            "=================================================================\n",
            "conv2d (Conv2D)              (None, 14, 14, 64)        1664      \n",
            "_________________________________________________________________\n",
            "leaky_re_lu_3 (LeakyReLU)    (None, 14, 14, 64)        0         \n",
            "_________________________________________________________________\n",
            "dropout (Dropout)            (None, 14, 14, 64)        0         \n",
            "_________________________________________________________________\n",
            "conv2d_1 (Conv2D)            (None, 7, 7, 128)         204928    \n",
            "_________________________________________________________________\n",
            "leaky_re_lu_4 (LeakyReLU)    (None, 7, 7, 128)         0         \n",
            "_________________________________________________________________\n",
            "dropout_1 (Dropout)          (None, 7, 7, 128)         0         \n",
            "_________________________________________________________________\n",
            "flatten (Flatten)            (None, 6272)              0         \n",
            "_________________________________________________________________\n",
            "dense_1 (Dense)              (None, 1)                 6273      \n",
            "=================================================================\n",
            "Total params: 212,865\n",
            "Trainable params: 212,865\n",
            "Non-trainable params: 0\n",
            "_________________________________________________________________\n"
          ],
          "name": "stdout"
        }
      ]
    },
    {
      "cell_type": "code",
      "metadata": {
        "id": "eN2KeZGod6Vv",
        "colab_type": "code",
        "colab": {}
      },
      "source": [
        "EPOCHS = 100\n",
        "num_examples_to_generate = 16\n",
        "\n",
        "# We will reuse this seed overtime (so it's easier)\n",
        "# to visualize progress in the animated GIF)\n",
        "seed = tf.random.normal([num_examples_to_generate, noise_shape])\n",
        "# x = np.linspace(-2, 2, 8)\n",
        "# y = np.linspace(-2, 2, 8)\n",
        "# xv, yv = np.meshgrid(x, y)\n",
        "# xv = xv.reshape(8,8,1)\n",
        "# yv = yv.reshape(8,8,1)\n",
        "# z = np.concatenate((xv,yv),axis=2)\n",
        "# seed = z.reshape(8*8, 2)\n",
        "\n",
        "# checkpoint_dir = 'gan_models/training_checkpoints'\n",
        "# checkpoint_prefix = os.path.join(checkpoint_dir, \"ckpt\")\n",
        "# checkpoint = tf.train.Checkpoint(generator_optimizer=generator_optimizer,\n",
        "#                                  discriminator_optimizer=discriminator_optimizer,\n",
        "#                                  generator=generator,\n",
        "#                                  discriminator=discriminator)"
      ],
      "execution_count": 11,
      "outputs": []
    },
    {
      "cell_type": "code",
      "metadata": {
        "id": "iKPuMHKGd4T3",
        "colab_type": "code",
        "colab": {}
      },
      "source": [
        "# Notice the use of `tf.function`\n",
        "# This annotation causes the function to be \"compiled\".\n",
        "@tf.function\n",
        "def train_step(images):\n",
        "    noise = tf.random.normal([BATCH_SIZE, noise_shape])\n",
        "\n",
        "    with tf.GradientTape() as gen_tape, tf.GradientTape() as disc_tape:\n",
        "      generated_images = generator(noise, training=True)\n",
        "\n",
        "      real_output = discriminator(images, training=True)\n",
        "      fake_output = discriminator(generated_images, training=True)\n",
        "\n",
        "      gen_loss = generator_loss(fake_output)\n",
        "      disc_loss = discriminator_loss(real_output, fake_output)\n",
        "\n",
        "    gradients_of_generator = gen_tape.gradient(gen_loss, generator.trainable_variables)\n",
        "    gradients_of_discriminator = disc_tape.gradient(disc_loss, discriminator.trainable_variables)\n",
        "\n",
        "    generator_optimizer.apply_gradients(zip(gradients_of_generator, generator.trainable_variables))\n",
        "    discriminator_optimizer.apply_gradients(zip(gradients_of_discriminator, discriminator.trainable_variables))\n",
        "\n",
        "    return gen_loss, disc_loss"
      ],
      "execution_count": 12,
      "outputs": []
    },
    {
      "cell_type": "code",
      "metadata": {
        "colab_type": "code",
        "id": "RmdVsmvhPxyy",
        "colab": {}
      },
      "source": [
        "def generate_and_save_images(model, epoch, test_input):\n",
        "  # Notice `training` is set to False.\n",
        "  # This is so all layers run in inference mode (batchnorm).\n",
        "  predictions = model(test_input, training=False)\n",
        "\n",
        "  fig = plt.figure(figsize=(4,4))\n",
        "  plt.suptitle('Epoch {}'.format(epoch))\n",
        "  for i in range(predictions.shape[0]):\n",
        "      plt.subplot(4, 4, i+1)\n",
        "      plt.imshow(predictions[i, :, :, 0] * 127.5 + 127.5, cmap='gray')\n",
        "      plt.axis('off')\n",
        "\n",
        "  plt.savefig('gan_images/img{}.png'.format(epoch)) #so it's a continuous stream of images\n",
        "  plt.show()"
      ],
      "execution_count": 13,
      "outputs": []
    },
    {
      "cell_type": "code",
      "metadata": {
        "id": "Sr1hOUoEXe-Z",
        "colab_type": "code",
        "colab": {}
      },
      "source": [
        "gen_loss_log = []\n",
        "disc_loss_log = []\n",
        "\n",
        "def train(dataset, epochs):\n",
        "  for epoch in range(epochs):\n",
        "    start = time.time()\n",
        "\n",
        "    for image_batch in dataset:\n",
        "      gen_loss, disc_loss = train_step(image_batch)\n",
        "      # Log the generator and discriminator losses, for analysis later\n",
        "      gen_loss_log.append(gen_loss)\n",
        "      disc_loss_log.append(disc_loss)\n",
        "    # Produce images for the video as we go\n",
        "    display.clear_output(wait=True)\n",
        "    generate_and_save_images(generator,\n",
        "                             epoch + 1,\n",
        "                             seed)\n",
        "\n",
        "    # Save the model every 50 epochs\n",
        "    if (epoch + 1) % 50 == 0:\n",
        "      #checkpoint.save(file_prefix = checkpoint_prefix)\n",
        "      generator.save('gan_models/gen{}.h5'.format(epoch+1))\n",
        "      discriminator.save('gan_models/dis{}.h5'.format(epoch+1))\n",
        "\n",
        "    print ('Loss generator {}, loss discriminator {}'.format(gen_loss, disc_loss))\n",
        "    print ('Time for epoch {} is {} sec'.format(epoch + 1, time.time()-start))\n",
        "\n",
        "  # Generate after the final epoch\n",
        "  display.clear_output(wait=True)\n",
        "  generate_and_save_images(generator,\n",
        "                           epochs,\n",
        "                           seed)"
      ],
      "execution_count": 14,
      "outputs": []
    },
    {
      "cell_type": "code",
      "metadata": {
        "id": "1GaHjVtNh__8",
        "colab_type": "code",
        "colab": {
          "base_uri": "https://localhost:8080/",
          "height": 33
        },
        "outputId": "80bf8e13-2e9c-4e75-e315-0aa64edd3477"
      },
      "source": [
        "reset_keras()\n",
        "train(train_dataset, EPOCHS)"
      ],
      "execution_count": null,
      "outputs": [
        {
          "output_type": "stream",
          "text": [
            "423\n"
          ],
          "name": "stdout"
        }
      ]
    },
    {
      "cell_type": "code",
      "metadata": {
        "id": "mdeAzIycDJCg",
        "colab_type": "code",
        "colab": {}
      },
      "source": [
        "# Plot history of loss during training\n",
        "plt.plot(gen_loss_log, label = 'generator loss')\n",
        "plt.plot(disc_loss_log, label = 'discriminator loss')\n",
        "plt.legend()\n",
        "plt.xlabel('Epoch')\n",
        "plt.ylabel('BCE')\n",
        "plt.title('Loss during training')\n",
        "plt.savefig('training_loss.png')"
      ],
      "execution_count": null,
      "outputs": []
    },
    {
      "cell_type": "code",
      "metadata": {
        "id": "YHAC6kQaqPYn",
        "colab_type": "code",
        "colab": {}
      },
      "source": [
        "# Check what happens with a smooth transition along the latent space input\n",
        "\n",
        "x = np.linspace(-2, 2, 16)\n",
        "y = np.linspace(-2, 2, 16)\n",
        "xv, yv = np.meshgrid(x, y)\n",
        "xv = xv.reshape(16,16,1)\n",
        "yv = yv.reshape(16,16,1)\n",
        "z = np.concatenate((xv,yv),axis=2)\n",
        "z = z.reshape(16*16, 2)\n",
        "\n",
        "predictions = generator(z, training=False)\n",
        "\n",
        "fig = plt.figure(figsize=(16,16))\n",
        "\n",
        "for i in range(predictions.shape[0]):\n",
        "    plt.subplot(16, 16, i+1)\n",
        "    plt.imshow(predictions[i, :, :, 0] * 127.5 + 127.5, cmap='gray')\n",
        "    plt.axis('off')\n",
        "plt.savefig('smooth_transition.png')"
      ],
      "execution_count": null,
      "outputs": []
    },
    {
      "cell_type": "code",
      "metadata": {
        "id": "i6e0oY0LptMA",
        "colab_type": "code",
        "colab": {}
      },
      "source": [
        ""
      ],
      "execution_count": null,
      "outputs": []
    },
    {
      "cell_type": "code",
      "metadata": {
        "id": "pK2XERc9t451",
        "colab_type": "code",
        "colab": {}
      },
      "source": [
        ""
      ],
      "execution_count": null,
      "outputs": []
    }
  ]
}